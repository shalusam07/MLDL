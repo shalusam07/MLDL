{
  "nbformat": 4,
  "nbformat_minor": 0,
  "metadata": {
    "colab": {
      "provenance": [],
      "authorship_tag": "ABX9TyNCglZfAnDh/UwcOkgta8/8",
      "include_colab_link": true
    },
    "kernelspec": {
      "name": "python3",
      "display_name": "Python 3"
    },
    "language_info": {
      "name": "python"
    }
  },
  "cells": [
    {
      "cell_type": "markdown",
      "metadata": {
        "id": "view-in-github",
        "colab_type": "text"
      },
      "source": [
        "<a href=\"https://colab.research.google.com/github/shalusam07/MLDL/blob/main/ML_task2.ipynb\" target=\"_parent\"><img src=\"https://colab.research.google.com/assets/colab-badge.svg\" alt=\"Open In Colab\"/></a>"
      ]
    },
    {
      "cell_type": "code",
      "execution_count": null,
      "metadata": {
        "colab": {
          "base_uri": "https://localhost:8080/"
        },
        "id": "ydCfFajC4uM9",
        "outputId": "cd24e47c-8a8b-40ab-a94c-14515c7499bd"
      },
      "outputs": [
        {
          "output_type": "stream",
          "name": "stdout",
          "text": [
            "--2024-01-02 06:36:47--  https://s3-api.us-geo.objectstorage.softlayer.net/cf-courses-data/CognitiveClass/ML0101ENv3/labs/drug200.csv\n",
            "Resolving s3-api.us-geo.objectstorage.softlayer.net (s3-api.us-geo.objectstorage.softlayer.net)... 67.228.254.196\n",
            "Connecting to s3-api.us-geo.objectstorage.softlayer.net (s3-api.us-geo.objectstorage.softlayer.net)|67.228.254.196|:443... connected.\n",
            "HTTP request sent, awaiting response... 200 OK\n",
            "Length: 6027 (5.9K) [text/csv]\n",
            "Saving to: ‘drug200.csv’\n",
            "\n",
            "\rdrug200.csv           0%[                    ]       0  --.-KB/s               \rdrug200.csv         100%[===================>]   5.89K  --.-KB/s    in 0s      \n",
            "\n",
            "2024-01-02 06:36:47 (1.70 GB/s) - ‘drug200.csv’ saved [6027/6027]\n",
            "\n"
          ]
        }
      ],
      "source": [
        "!wget -O drug200.csv https://s3-api.us-geo.objectstorage.softlayer.net/cf-courses-data/CognitiveClass/ML0101ENv3/labs/drug200.csv"
      ]
    },
    {
      "cell_type": "code",
      "source": [
        "import pandas as pd"
      ],
      "metadata": {
        "id": "3wzAqPeN48cL"
      },
      "execution_count": null,
      "outputs": []
    },
    {
      "cell_type": "code",
      "source": [
        "data = pd.read_csv('drug200.csv')"
      ],
      "metadata": {
        "id": "2dwxjGxl5Afk"
      },
      "execution_count": null,
      "outputs": []
    },
    {
      "cell_type": "code",
      "source": [
        "data.isnull().sum()"
      ],
      "metadata": {
        "colab": {
          "base_uri": "https://localhost:8080/"
        },
        "id": "pCNR5oII5Eq2",
        "outputId": "a4382616-71bd-4f7c-aa56-0f3d6004ea6f"
      },
      "execution_count": null,
      "outputs": [
        {
          "output_type": "execute_result",
          "data": {
            "text/plain": [
              "Age            0\n",
              "Sex            0\n",
              "BP             0\n",
              "Cholesterol    0\n",
              "Na_to_K        0\n",
              "Drug           0\n",
              "dtype: int64"
            ]
          },
          "metadata": {},
          "execution_count": 4
        }
      ]
    },
    {
      "cell_type": "code",
      "source": [
        "data"
      ],
      "metadata": {
        "colab": {
          "base_uri": "https://localhost:8080/",
          "height": 423
        },
        "id": "U5_p__iY5J97",
        "outputId": "ecc7a6ff-7299-4044-912a-c851bf152b66"
      },
      "execution_count": null,
      "outputs": [
        {
          "output_type": "execute_result",
          "data": {
            "text/plain": [
              "     Age Sex      BP Cholesterol  Na_to_K   Drug\n",
              "0     23   F    HIGH        HIGH   25.355  drugY\n",
              "1     47   M     LOW        HIGH   13.093  drugC\n",
              "2     47   M     LOW        HIGH   10.114  drugC\n",
              "3     28   F  NORMAL        HIGH    7.798  drugX\n",
              "4     61   F     LOW        HIGH   18.043  drugY\n",
              "..   ...  ..     ...         ...      ...    ...\n",
              "195   56   F     LOW        HIGH   11.567  drugC\n",
              "196   16   M     LOW        HIGH   12.006  drugC\n",
              "197   52   M  NORMAL        HIGH    9.894  drugX\n",
              "198   23   M  NORMAL      NORMAL   14.020  drugX\n",
              "199   40   F     LOW      NORMAL   11.349  drugX\n",
              "\n",
              "[200 rows x 6 columns]"
            ],
            "text/html": [
              "\n",
              "  <div id=\"df-d42edce4-f216-4020-985c-56c38f2ae3d3\" class=\"colab-df-container\">\n",
              "    <div>\n",
              "<style scoped>\n",
              "    .dataframe tbody tr th:only-of-type {\n",
              "        vertical-align: middle;\n",
              "    }\n",
              "\n",
              "    .dataframe tbody tr th {\n",
              "        vertical-align: top;\n",
              "    }\n",
              "\n",
              "    .dataframe thead th {\n",
              "        text-align: right;\n",
              "    }\n",
              "</style>\n",
              "<table border=\"1\" class=\"dataframe\">\n",
              "  <thead>\n",
              "    <tr style=\"text-align: right;\">\n",
              "      <th></th>\n",
              "      <th>Age</th>\n",
              "      <th>Sex</th>\n",
              "      <th>BP</th>\n",
              "      <th>Cholesterol</th>\n",
              "      <th>Na_to_K</th>\n",
              "      <th>Drug</th>\n",
              "    </tr>\n",
              "  </thead>\n",
              "  <tbody>\n",
              "    <tr>\n",
              "      <th>0</th>\n",
              "      <td>23</td>\n",
              "      <td>F</td>\n",
              "      <td>HIGH</td>\n",
              "      <td>HIGH</td>\n",
              "      <td>25.355</td>\n",
              "      <td>drugY</td>\n",
              "    </tr>\n",
              "    <tr>\n",
              "      <th>1</th>\n",
              "      <td>47</td>\n",
              "      <td>M</td>\n",
              "      <td>LOW</td>\n",
              "      <td>HIGH</td>\n",
              "      <td>13.093</td>\n",
              "      <td>drugC</td>\n",
              "    </tr>\n",
              "    <tr>\n",
              "      <th>2</th>\n",
              "      <td>47</td>\n",
              "      <td>M</td>\n",
              "      <td>LOW</td>\n",
              "      <td>HIGH</td>\n",
              "      <td>10.114</td>\n",
              "      <td>drugC</td>\n",
              "    </tr>\n",
              "    <tr>\n",
              "      <th>3</th>\n",
              "      <td>28</td>\n",
              "      <td>F</td>\n",
              "      <td>NORMAL</td>\n",
              "      <td>HIGH</td>\n",
              "      <td>7.798</td>\n",
              "      <td>drugX</td>\n",
              "    </tr>\n",
              "    <tr>\n",
              "      <th>4</th>\n",
              "      <td>61</td>\n",
              "      <td>F</td>\n",
              "      <td>LOW</td>\n",
              "      <td>HIGH</td>\n",
              "      <td>18.043</td>\n",
              "      <td>drugY</td>\n",
              "    </tr>\n",
              "    <tr>\n",
              "      <th>...</th>\n",
              "      <td>...</td>\n",
              "      <td>...</td>\n",
              "      <td>...</td>\n",
              "      <td>...</td>\n",
              "      <td>...</td>\n",
              "      <td>...</td>\n",
              "    </tr>\n",
              "    <tr>\n",
              "      <th>195</th>\n",
              "      <td>56</td>\n",
              "      <td>F</td>\n",
              "      <td>LOW</td>\n",
              "      <td>HIGH</td>\n",
              "      <td>11.567</td>\n",
              "      <td>drugC</td>\n",
              "    </tr>\n",
              "    <tr>\n",
              "      <th>196</th>\n",
              "      <td>16</td>\n",
              "      <td>M</td>\n",
              "      <td>LOW</td>\n",
              "      <td>HIGH</td>\n",
              "      <td>12.006</td>\n",
              "      <td>drugC</td>\n",
              "    </tr>\n",
              "    <tr>\n",
              "      <th>197</th>\n",
              "      <td>52</td>\n",
              "      <td>M</td>\n",
              "      <td>NORMAL</td>\n",
              "      <td>HIGH</td>\n",
              "      <td>9.894</td>\n",
              "      <td>drugX</td>\n",
              "    </tr>\n",
              "    <tr>\n",
              "      <th>198</th>\n",
              "      <td>23</td>\n",
              "      <td>M</td>\n",
              "      <td>NORMAL</td>\n",
              "      <td>NORMAL</td>\n",
              "      <td>14.020</td>\n",
              "      <td>drugX</td>\n",
              "    </tr>\n",
              "    <tr>\n",
              "      <th>199</th>\n",
              "      <td>40</td>\n",
              "      <td>F</td>\n",
              "      <td>LOW</td>\n",
              "      <td>NORMAL</td>\n",
              "      <td>11.349</td>\n",
              "      <td>drugX</td>\n",
              "    </tr>\n",
              "  </tbody>\n",
              "</table>\n",
              "<p>200 rows × 6 columns</p>\n",
              "</div>\n",
              "    <div class=\"colab-df-buttons\">\n",
              "\n",
              "  <div class=\"colab-df-container\">\n",
              "    <button class=\"colab-df-convert\" onclick=\"convertToInteractive('df-d42edce4-f216-4020-985c-56c38f2ae3d3')\"\n",
              "            title=\"Convert this dataframe to an interactive table.\"\n",
              "            style=\"display:none;\">\n",
              "\n",
              "  <svg xmlns=\"http://www.w3.org/2000/svg\" height=\"24px\" viewBox=\"0 -960 960 960\">\n",
              "    <path d=\"M120-120v-720h720v720H120Zm60-500h600v-160H180v160Zm220 220h160v-160H400v160Zm0 220h160v-160H400v160ZM180-400h160v-160H180v160Zm440 0h160v-160H620v160ZM180-180h160v-160H180v160Zm440 0h160v-160H620v160Z\"/>\n",
              "  </svg>\n",
              "    </button>\n",
              "\n",
              "  <style>\n",
              "    .colab-df-container {\n",
              "      display:flex;\n",
              "      gap: 12px;\n",
              "    }\n",
              "\n",
              "    .colab-df-convert {\n",
              "      background-color: #E8F0FE;\n",
              "      border: none;\n",
              "      border-radius: 50%;\n",
              "      cursor: pointer;\n",
              "      display: none;\n",
              "      fill: #1967D2;\n",
              "      height: 32px;\n",
              "      padding: 0 0 0 0;\n",
              "      width: 32px;\n",
              "    }\n",
              "\n",
              "    .colab-df-convert:hover {\n",
              "      background-color: #E2EBFA;\n",
              "      box-shadow: 0px 1px 2px rgba(60, 64, 67, 0.3), 0px 1px 3px 1px rgba(60, 64, 67, 0.15);\n",
              "      fill: #174EA6;\n",
              "    }\n",
              "\n",
              "    .colab-df-buttons div {\n",
              "      margin-bottom: 4px;\n",
              "    }\n",
              "\n",
              "    [theme=dark] .colab-df-convert {\n",
              "      background-color: #3B4455;\n",
              "      fill: #D2E3FC;\n",
              "    }\n",
              "\n",
              "    [theme=dark] .colab-df-convert:hover {\n",
              "      background-color: #434B5C;\n",
              "      box-shadow: 0px 1px 3px 1px rgba(0, 0, 0, 0.15);\n",
              "      filter: drop-shadow(0px 1px 2px rgba(0, 0, 0, 0.3));\n",
              "      fill: #FFFFFF;\n",
              "    }\n",
              "  </style>\n",
              "\n",
              "    <script>\n",
              "      const buttonEl =\n",
              "        document.querySelector('#df-d42edce4-f216-4020-985c-56c38f2ae3d3 button.colab-df-convert');\n",
              "      buttonEl.style.display =\n",
              "        google.colab.kernel.accessAllowed ? 'block' : 'none';\n",
              "\n",
              "      async function convertToInteractive(key) {\n",
              "        const element = document.querySelector('#df-d42edce4-f216-4020-985c-56c38f2ae3d3');\n",
              "        const dataTable =\n",
              "          await google.colab.kernel.invokeFunction('convertToInteractive',\n",
              "                                                    [key], {});\n",
              "        if (!dataTable) return;\n",
              "\n",
              "        const docLinkHtml = 'Like what you see? Visit the ' +\n",
              "          '<a target=\"_blank\" href=https://colab.research.google.com/notebooks/data_table.ipynb>data table notebook</a>'\n",
              "          + ' to learn more about interactive tables.';\n",
              "        element.innerHTML = '';\n",
              "        dataTable['output_type'] = 'display_data';\n",
              "        await google.colab.output.renderOutput(dataTable, element);\n",
              "        const docLink = document.createElement('div');\n",
              "        docLink.innerHTML = docLinkHtml;\n",
              "        element.appendChild(docLink);\n",
              "      }\n",
              "    </script>\n",
              "  </div>\n",
              "\n",
              "\n",
              "<div id=\"df-162d1de8-f128-44dd-ad56-71219a766933\">\n",
              "  <button class=\"colab-df-quickchart\" onclick=\"quickchart('df-162d1de8-f128-44dd-ad56-71219a766933')\"\n",
              "            title=\"Suggest charts\"\n",
              "            style=\"display:none;\">\n",
              "\n",
              "<svg xmlns=\"http://www.w3.org/2000/svg\" height=\"24px\"viewBox=\"0 0 24 24\"\n",
              "     width=\"24px\">\n",
              "    <g>\n",
              "        <path d=\"M19 3H5c-1.1 0-2 .9-2 2v14c0 1.1.9 2 2 2h14c1.1 0 2-.9 2-2V5c0-1.1-.9-2-2-2zM9 17H7v-7h2v7zm4 0h-2V7h2v10zm4 0h-2v-4h2v4z\"/>\n",
              "    </g>\n",
              "</svg>\n",
              "  </button>\n",
              "\n",
              "<style>\n",
              "  .colab-df-quickchart {\n",
              "      --bg-color: #E8F0FE;\n",
              "      --fill-color: #1967D2;\n",
              "      --hover-bg-color: #E2EBFA;\n",
              "      --hover-fill-color: #174EA6;\n",
              "      --disabled-fill-color: #AAA;\n",
              "      --disabled-bg-color: #DDD;\n",
              "  }\n",
              "\n",
              "  [theme=dark] .colab-df-quickchart {\n",
              "      --bg-color: #3B4455;\n",
              "      --fill-color: #D2E3FC;\n",
              "      --hover-bg-color: #434B5C;\n",
              "      --hover-fill-color: #FFFFFF;\n",
              "      --disabled-bg-color: #3B4455;\n",
              "      --disabled-fill-color: #666;\n",
              "  }\n",
              "\n",
              "  .colab-df-quickchart {\n",
              "    background-color: var(--bg-color);\n",
              "    border: none;\n",
              "    border-radius: 50%;\n",
              "    cursor: pointer;\n",
              "    display: none;\n",
              "    fill: var(--fill-color);\n",
              "    height: 32px;\n",
              "    padding: 0;\n",
              "    width: 32px;\n",
              "  }\n",
              "\n",
              "  .colab-df-quickchart:hover {\n",
              "    background-color: var(--hover-bg-color);\n",
              "    box-shadow: 0 1px 2px rgba(60, 64, 67, 0.3), 0 1px 3px 1px rgba(60, 64, 67, 0.15);\n",
              "    fill: var(--button-hover-fill-color);\n",
              "  }\n",
              "\n",
              "  .colab-df-quickchart-complete:disabled,\n",
              "  .colab-df-quickchart-complete:disabled:hover {\n",
              "    background-color: var(--disabled-bg-color);\n",
              "    fill: var(--disabled-fill-color);\n",
              "    box-shadow: none;\n",
              "  }\n",
              "\n",
              "  .colab-df-spinner {\n",
              "    border: 2px solid var(--fill-color);\n",
              "    border-color: transparent;\n",
              "    border-bottom-color: var(--fill-color);\n",
              "    animation:\n",
              "      spin 1s steps(1) infinite;\n",
              "  }\n",
              "\n",
              "  @keyframes spin {\n",
              "    0% {\n",
              "      border-color: transparent;\n",
              "      border-bottom-color: var(--fill-color);\n",
              "      border-left-color: var(--fill-color);\n",
              "    }\n",
              "    20% {\n",
              "      border-color: transparent;\n",
              "      border-left-color: var(--fill-color);\n",
              "      border-top-color: var(--fill-color);\n",
              "    }\n",
              "    30% {\n",
              "      border-color: transparent;\n",
              "      border-left-color: var(--fill-color);\n",
              "      border-top-color: var(--fill-color);\n",
              "      border-right-color: var(--fill-color);\n",
              "    }\n",
              "    40% {\n",
              "      border-color: transparent;\n",
              "      border-right-color: var(--fill-color);\n",
              "      border-top-color: var(--fill-color);\n",
              "    }\n",
              "    60% {\n",
              "      border-color: transparent;\n",
              "      border-right-color: var(--fill-color);\n",
              "    }\n",
              "    80% {\n",
              "      border-color: transparent;\n",
              "      border-right-color: var(--fill-color);\n",
              "      border-bottom-color: var(--fill-color);\n",
              "    }\n",
              "    90% {\n",
              "      border-color: transparent;\n",
              "      border-bottom-color: var(--fill-color);\n",
              "    }\n",
              "  }\n",
              "</style>\n",
              "\n",
              "  <script>\n",
              "    async function quickchart(key) {\n",
              "      const quickchartButtonEl =\n",
              "        document.querySelector('#' + key + ' button');\n",
              "      quickchartButtonEl.disabled = true;  // To prevent multiple clicks.\n",
              "      quickchartButtonEl.classList.add('colab-df-spinner');\n",
              "      try {\n",
              "        const charts = await google.colab.kernel.invokeFunction(\n",
              "            'suggestCharts', [key], {});\n",
              "      } catch (error) {\n",
              "        console.error('Error during call to suggestCharts:', error);\n",
              "      }\n",
              "      quickchartButtonEl.classList.remove('colab-df-spinner');\n",
              "      quickchartButtonEl.classList.add('colab-df-quickchart-complete');\n",
              "    }\n",
              "    (() => {\n",
              "      let quickchartButtonEl =\n",
              "        document.querySelector('#df-162d1de8-f128-44dd-ad56-71219a766933 button');\n",
              "      quickchartButtonEl.style.display =\n",
              "        google.colab.kernel.accessAllowed ? 'block' : 'none';\n",
              "    })();\n",
              "  </script>\n",
              "</div>\n",
              "\n",
              "  <div id=\"id_9796ef34-bc6f-41d9-9620-4f5748492aae\">\n",
              "    <style>\n",
              "      .colab-df-generate {\n",
              "        background-color: #E8F0FE;\n",
              "        border: none;\n",
              "        border-radius: 50%;\n",
              "        cursor: pointer;\n",
              "        display: none;\n",
              "        fill: #1967D2;\n",
              "        height: 32px;\n",
              "        padding: 0 0 0 0;\n",
              "        width: 32px;\n",
              "      }\n",
              "\n",
              "      .colab-df-generate:hover {\n",
              "        background-color: #E2EBFA;\n",
              "        box-shadow: 0px 1px 2px rgba(60, 64, 67, 0.3), 0px 1px 3px 1px rgba(60, 64, 67, 0.15);\n",
              "        fill: #174EA6;\n",
              "      }\n",
              "\n",
              "      [theme=dark] .colab-df-generate {\n",
              "        background-color: #3B4455;\n",
              "        fill: #D2E3FC;\n",
              "      }\n",
              "\n",
              "      [theme=dark] .colab-df-generate:hover {\n",
              "        background-color: #434B5C;\n",
              "        box-shadow: 0px 1px 3px 1px rgba(0, 0, 0, 0.15);\n",
              "        filter: drop-shadow(0px 1px 2px rgba(0, 0, 0, 0.3));\n",
              "        fill: #FFFFFF;\n",
              "      }\n",
              "    </style>\n",
              "    <button class=\"colab-df-generate\" onclick=\"generateWithVariable('data')\"\n",
              "            title=\"Generate code using this dataframe.\"\n",
              "            style=\"display:none;\">\n",
              "\n",
              "  <svg xmlns=\"http://www.w3.org/2000/svg\" height=\"24px\"viewBox=\"0 0 24 24\"\n",
              "       width=\"24px\">\n",
              "    <path d=\"M7,19H8.4L18.45,9,17,7.55,7,17.6ZM5,21V16.75L18.45,3.32a2,2,0,0,1,2.83,0l1.4,1.43a1.91,1.91,0,0,1,.58,1.4,1.91,1.91,0,0,1-.58,1.4L9.25,21ZM18.45,9,17,7.55Zm-12,3A5.31,5.31,0,0,0,4.9,8.1,5.31,5.31,0,0,0,1,6.5,5.31,5.31,0,0,0,4.9,4.9,5.31,5.31,0,0,0,6.5,1,5.31,5.31,0,0,0,8.1,4.9,5.31,5.31,0,0,0,12,6.5,5.46,5.46,0,0,0,6.5,12Z\"/>\n",
              "  </svg>\n",
              "    </button>\n",
              "    <script>\n",
              "      (() => {\n",
              "      const buttonEl =\n",
              "        document.querySelector('#id_9796ef34-bc6f-41d9-9620-4f5748492aae button.colab-df-generate');\n",
              "      buttonEl.style.display =\n",
              "        google.colab.kernel.accessAllowed ? 'block' : 'none';\n",
              "\n",
              "      buttonEl.onclick = () => {\n",
              "        google.colab.notebook.generateWithVariable('data');\n",
              "      }\n",
              "      })();\n",
              "    </script>\n",
              "  </div>\n",
              "\n",
              "    </div>\n",
              "  </div>\n"
            ]
          },
          "metadata": {},
          "execution_count": 5
        }
      ]
    },
    {
      "cell_type": "code",
      "source": [
        "# making dummies\n",
        "dummy_variable_sex = pd.get_dummies(data[\"Sex\"])\n",
        "# Concatenate\n",
        "data = pd.concat([data, dummy_variable_sex], axis=1)\n",
        "# Drop sex column\n",
        "data.drop(\"Sex\", axis = 1, inplace=True)"
      ],
      "metadata": {
        "id": "l1amIxWt5Rbz"
      },
      "execution_count": null,
      "outputs": []
    },
    {
      "cell_type": "code",
      "source": [
        "y = data.iloc[:, -3].valuesy"
      ],
      "metadata": {
        "colab": {
          "base_uri": "https://localhost:8080/"
        },
        "id": "nb9f0XAN5WcH",
        "outputId": "9c4cab51-4325-43d4-c876-ed44ca28676a"
      },
      "execution_count": null,
      "outputs": [
        {
          "output_type": "execute_result",
          "data": {
            "text/plain": [
              "array(['drugY', 'drugC', 'drugC', 'drugX', 'drugY', 'drugX', 'drugY',\n",
              "       'drugC', 'drugY', 'drugY', 'drugC', 'drugY', 'drugY', 'drugY',\n",
              "       'drugX', 'drugY', 'drugX', 'drugA', 'drugC', 'drugY', 'drugY',\n",
              "       'drugY', 'drugY', 'drugY', 'drugY', 'drugY', 'drugY', 'drugX',\n",
              "       'drugY', 'drugY', 'drugX', 'drugB', 'drugX', 'drugY', 'drugX',\n",
              "       'drugX', 'drugA', 'drugX', 'drugX', 'drugX', 'drugY', 'drugB',\n",
              "       'drugY', 'drugX', 'drugX', 'drugX', 'drugA', 'drugC', 'drugY',\n",
              "       'drugY', 'drugY', 'drugX', 'drugY', 'drugY', 'drugB', 'drugC',\n",
              "       'drugB', 'drugY', 'drugX', 'drugY', 'drugY', 'drugA', 'drugY',\n",
              "       'drugX', 'drugB', 'drugY', 'drugA', 'drugX', 'drugY', 'drugY',\n",
              "       'drugB', 'drugY', 'drugX', 'drugY', 'drugY', 'drugY', 'drugA',\n",
              "       'drugY', 'drugA', 'drugX', 'drugB', 'drugX', 'drugC', 'drugA',\n",
              "       'drugC', 'drugB', 'drugX', 'drugY', 'drugY', 'drugY', 'drugY',\n",
              "       'drugY', 'drugY', 'drugY', 'drugY', 'drugX', 'drugY', 'drugY',\n",
              "       'drugY', 'drugY', 'drugA', 'drugA', 'drugC', 'drugX', 'drugY',\n",
              "       'drugX', 'drugX', 'drugY', 'drugB', 'drugY', 'drugA', 'drugX',\n",
              "       'drugX', 'drugX', 'drugX', 'drugY', 'drugX', 'drugX', 'drugA',\n",
              "       'drugY', 'drugY', 'drugY', 'drugY', 'drugY', 'drugB', 'drugY',\n",
              "       'drugY', 'drugX', 'drugY', 'drugX', 'drugY', 'drugY', 'drugX',\n",
              "       'drugY', 'drugY', 'drugX', 'drugB', 'drugA', 'drugB', 'drugX',\n",
              "       'drugA', 'drugY', 'drugB', 'drugY', 'drugA', 'drugX', 'drugX',\n",
              "       'drugA', 'drugX', 'drugC', 'drugA', 'drugB', 'drugX', 'drugX',\n",
              "       'drugY', 'drugC', 'drugA', 'drugY', 'drugC', 'drugX', 'drugX',\n",
              "       'drugB', 'drugX', 'drugY', 'drugY', 'drugY', 'drugY', 'drugX',\n",
              "       'drugY', 'drugA', 'drugX', 'drugX', 'drugY', 'drugY', 'drugA',\n",
              "       'drugY', 'drugA', 'drugY', 'drugY', 'drugY', 'drugY', 'drugX',\n",
              "       'drugX', 'drugY', 'drugY', 'drugY', 'drugB', 'drugA', 'drugY',\n",
              "       'drugY', 'drugY', 'drugA', 'drugY', 'drugC', 'drugY', 'drugC',\n",
              "       'drugC', 'drugX', 'drugX', 'drugX'], dtype=object)"
            ]
          },
          "metadata": {},
          "execution_count": 7
        }
      ]
    },
    {
      "cell_type": "code",
      "source": [
        "dataset = data.drop(\"Drug\", axis = 1, inplace=False)"
      ],
      "metadata": {
        "id": "dzkAcAiI5bC-"
      },
      "execution_count": null,
      "outputs": []
    },
    {
      "cell_type": "code",
      "source": [
        "print(dataset)"
      ],
      "metadata": {
        "colab": {
          "base_uri": "https://localhost:8080/"
        },
        "id": "BQFc-_MZ6gvn",
        "outputId": "f38dd4fe-f70e-4555-bab8-a05a9a23b6b3"
      },
      "execution_count": null,
      "outputs": [
        {
          "output_type": "stream",
          "name": "stdout",
          "text": [
            "     Age      BP Cholesterol  Na_to_K  F  M\n",
            "0     23    HIGH        HIGH   25.355  1  0\n",
            "1     47     LOW        HIGH   13.093  0  1\n",
            "2     47     LOW        HIGH   10.114  0  1\n",
            "3     28  NORMAL        HIGH    7.798  1  0\n",
            "4     61     LOW        HIGH   18.043  1  0\n",
            "..   ...     ...         ...      ... .. ..\n",
            "195   56     LOW        HIGH   11.567  1  0\n",
            "196   16     LOW        HIGH   12.006  0  1\n",
            "197   52  NORMAL        HIGH    9.894  0  1\n",
            "198   23  NORMAL      NORMAL   14.020  0  1\n",
            "199   40     LOW      NORMAL   11.349  1  0\n",
            "\n",
            "[200 rows x 6 columns]\n"
          ]
        }
      ]
    },
    {
      "cell_type": "code",
      "source": [
        "# Converting dataframe into arrays\n",
        "dataset_array = dataset.values\n",
        "dataset_array"
      ],
      "metadata": {
        "colab": {
          "base_uri": "https://localhost:8080/"
        },
        "id": "Si8ko8MT6ibM",
        "outputId": "94824971-fae7-4382-ec58-c11b7ccc7a00"
      },
      "execution_count": null,
      "outputs": [
        {
          "output_type": "execute_result",
          "data": {
            "text/plain": [
              "array([[23, 'HIGH', 'HIGH', 25.355, 1, 0],\n",
              "       [47, 'LOW', 'HIGH', 13.093, 0, 1],\n",
              "       [47, 'LOW', 'HIGH', 10.114, 0, 1],\n",
              "       ...,\n",
              "       [52, 'NORMAL', 'HIGH', 9.894, 0, 1],\n",
              "       [23, 'NORMAL', 'NORMAL', 14.02, 0, 1],\n",
              "       [40, 'LOW', 'NORMAL', 11.349, 1, 0]], dtype=object)"
            ]
          },
          "metadata": {},
          "execution_count": 10
        }
      ]
    },
    {
      "cell_type": "code",
      "source": [
        "# Using sklearn library's LabelEncoder class\n",
        "from sklearn.preprocessing import LabelEncoder\n",
        "le_BP = LabelEncoder()\n",
        "le_BP.fit([ 'LOW', 'NORMAL', 'HIGH'])\n",
        "dataset_array[:,1] = le_BP.transform(dataset_array[:,1])\n",
        "dataset_array"
      ],
      "metadata": {
        "colab": {
          "base_uri": "https://localhost:8080/"
        },
        "id": "PXAgZS5p6mum",
        "outputId": "414c931f-1119-45ca-f909-418f8bb04ba8"
      },
      "execution_count": null,
      "outputs": [
        {
          "output_type": "execute_result",
          "data": {
            "text/plain": [
              "array([[23, 0, 'HIGH', 25.355, 1, 0],\n",
              "       [47, 1, 'HIGH', 13.093, 0, 1],\n",
              "       [47, 1, 'HIGH', 10.114, 0, 1],\n",
              "       ...,\n",
              "       [52, 2, 'HIGH', 9.894, 0, 1],\n",
              "       [23, 2, 'NORMAL', 14.02, 0, 1],\n",
              "       [40, 1, 'NORMAL', 11.349, 1, 0]], dtype=object)"
            ]
          },
          "metadata": {},
          "execution_count": 11
        }
      ]
    },
    {
      "cell_type": "code",
      "source": [
        "from sklearn.preprocessing import LabelEncoder\n",
        "le_Chole = LabelEncoder()\n",
        "le_Chole.fit([ 'LOW', 'NORMAL', 'HIGH'])\n",
        "dataset_array[:,2] = le_Chole.transform(dataset_array[:,2])\n",
        "X = dataset_array"
      ],
      "metadata": {
        "id": "YeWTshs_6ryg"
      },
      "execution_count": null,
      "outputs": []
    },
    {
      "cell_type": "markdown",
      "source": [
        "Splitting dataset"
      ],
      "metadata": {
        "id": "sOVoHntP6zDU"
      }
    },
    {
      "cell_type": "code",
      "source": [
        "from sklearn.model_selection import train_test_split\n",
        "X_train, X_test, y_train, y_test = train_test_split(X, y, test_size = 0.25, random_state = 0)"
      ],
      "metadata": {
        "id": "TbyX6xbg6z0E"
      },
      "execution_count": null,
      "outputs": []
    },
    {
      "cell_type": "code",
      "source": [
        "print(X_train)"
      ],
      "metadata": {
        "colab": {
          "base_uri": "https://localhost:8080/"
        },
        "id": "809haaiG65nq",
        "outputId": "c16e68d7-d19d-4bad-8077-e6646f69c5b5"
      },
      "execution_count": null,
      "outputs": [
        {
          "output_type": "stream",
          "name": "stdout",
          "text": [
            "[[28 2 0 19.675 1 0]\n",
            " [53 0 2 12.495 1 0]\n",
            " [18 0 0 37.188 1 0]\n",
            " [56 0 0 25.395 1 0]\n",
            " [22 1 0 8.151 0 1]\n",
            " [33 1 0 33.486 1 0]\n",
            " [18 2 2 8.75 1 0]\n",
            " [30 2 0 10.443 1 0]\n",
            " [73 2 0 19.221 1 0]\n",
            " [65 0 2 11.34 0 1]\n",
            " [52 1 2 32.922 0 1]\n",
            " [58 1 0 38.247 1 0]\n",
            " [59 2 0 13.884 1 0]\n",
            " [32 0 2 25.974 1 0]\n",
            " [72 1 2 14.642 1 0]\n",
            " [29 0 0 29.45 1 0]\n",
            " [68 0 2 10.189 1 0]\n",
            " [21 0 2 28.632 1 0]\n",
            " [67 2 2 10.898 0 1]\n",
            " [51 2 0 13.597 1 0]\n",
            " [69 2 0 10.065 1 0]\n",
            " [62 2 0 16.594 0 1]\n",
            " [35 0 0 12.894 1 0]\n",
            " [45 0 0 12.854 1 0]\n",
            " [39 0 0 9.664 0 1]\n",
            " [50 2 2 17.211 1 0]\n",
            " [23 2 0 16.85 0 1]\n",
            " [50 2 0 12.703 1 0]\n",
            " [49 2 2 9.381 1 0]\n",
            " [64 1 2 25.741 1 0]\n",
            " [47 0 0 10.403 0 1]\n",
            " [37 0 0 13.091 1 0]\n",
            " [51 0 2 11.343 0 1]\n",
            " [56 1 0 11.567 1 0]\n",
            " [72 0 2 9.677 0 1]\n",
            " [67 1 2 20.693 0 1]\n",
            " [47 1 0 10.114 0 1]\n",
            " [34 0 0 18.703 0 1]\n",
            " [55 0 0 10.977 1 0]\n",
            " [52 2 0 9.894 0 1]\n",
            " [23 2 0 12.26 0 1]\n",
            " [47 1 0 11.767 1 0]\n",
            " [46 0 0 34.686 1 0]\n",
            " [41 2 2 22.905 1 0]\n",
            " [16 1 0 12.006 0 1]\n",
            " [39 2 0 15.969 0 1]\n",
            " [73 0 0 18.348 1 0]\n",
            " [66 0 0 16.347 0 1]\n",
            " [42 1 2 29.271 1 0]\n",
            " [35 1 2 9.17 0 1]\n",
            " [59 1 0 10.444 1 0]\n",
            " [23 0 0 8.011 0 1]\n",
            " [58 0 0 19.416 1 0]\n",
            " [23 0 0 25.355 1 0]\n",
            " [56 1 0 15.015 0 1]\n",
            " [50 0 0 7.49 0 1]\n",
            " [36 1 2 11.424 0 1]\n",
            " [60 0 0 13.303 1 0]\n",
            " [57 2 0 14.216 1 0]\n",
            " [58 0 2 14.239 1 0]\n",
            " [18 0 2 24.276 1 0]\n",
            " [28 1 0 19.796 1 0]\n",
            " [23 2 0 31.686 0 1]\n",
            " [59 0 0 13.935 0 1]\n",
            " [74 1 0 20.942 1 0]\n",
            " [57 0 2 9.945 1 0]\n",
            " [48 1 0 15.036 1 0]\n",
            " [70 0 0 9.849 0 1]\n",
            " [74 1 2 11.939 0 1]\n",
            " [57 1 2 19.128 0 1]\n",
            " [16 0 2 15.516 1 0]\n",
            " [19 0 0 13.313 1 0]\n",
            " [22 0 2 28.294 0 1]\n",
            " [62 1 2 27.183 0 1]\n",
            " [31 0 2 11.871 0 1]\n",
            " [36 0 0 11.198 1 0]\n",
            " [28 2 0 7.798 1 0]\n",
            " [67 2 2 9.514 0 1]\n",
            " [16 0 2 19.007 0 1]\n",
            " [23 2 2 14.02 0 1]\n",
            " [49 2 0 16.275 1 0]\n",
            " [54 2 0 24.658 0 1]\n",
            " [47 1 0 10.067 1 0]\n",
            " [15 0 2 17.206 0 1]\n",
            " [49 1 0 10.537 0 1]\n",
            " [45 1 2 10.017 0 1]\n",
            " [31 0 2 11.227 0 1]\n",
            " [41 0 2 15.156 0 1]\n",
            " [40 1 2 11.349 1 0]\n",
            " [34 0 2 19.199 1 0]\n",
            " [61 0 0 25.475 1 0]\n",
            " [28 1 0 13.127 1 0]\n",
            " [46 2 2 7.285 0 1]\n",
            " [40 0 0 27.826 0 1]\n",
            " [68 2 2 27.05 1 0]\n",
            " [47 1 0 13.093 0 1]\n",
            " [28 2 0 27.064 0 1]\n",
            " [43 2 2 12.859 0 1]\n",
            " [50 2 2 15.79 0 1]\n",
            " [37 1 2 8.968 0 1]\n",
            " [49 1 2 13.598 0 1]\n",
            " [41 1 2 18.739 1 0]\n",
            " [43 0 0 13.972 0 1]\n",
            " [39 2 2 9.709 1 0]\n",
            " [24 2 0 25.786 0 1]\n",
            " [24 0 2 18.457 1 0]\n",
            " [53 1 0 22.963 0 1]\n",
            " [47 1 2 33.542 0 1]\n",
            " [53 2 0 14.133 0 1]\n",
            " [39 1 2 22.697 1 0]\n",
            " [20 2 2 9.281 1 0]\n",
            " [68 0 0 11.009 0 1]\n",
            " [74 0 0 9.567 0 1]\n",
            " [58 1 0 26.645 1 0]\n",
            " [35 2 2 7.845 0 1]\n",
            " [48 0 2 10.446 0 1]\n",
            " [49 1 2 11.014 0 1]\n",
            " [60 0 2 8.621 0 1]\n",
            " [20 0 0 11.262 1 0]\n",
            " [26 0 2 12.307 1 0]\n",
            " [45 1 0 17.951 0 1]\n",
            " [15 0 2 16.725 1 0]\n",
            " [32 1 0 9.712 1 0]\n",
            " [32 1 2 10.84 1 0]\n",
            " [51 0 0 18.295 0 1]\n",
            " [61 1 2 7.34 1 0]\n",
            " [72 1 0 6.769 0 1]\n",
            " [24 2 0 10.605 1 0]\n",
            " [26 0 2 19.161 1 0]\n",
            " [28 0 2 18.809 1 0]\n",
            " [38 1 0 18.295 0 1]\n",
            " [64 2 0 7.761 0 1]\n",
            " [65 0 2 34.997 0 1]\n",
            " [42 0 2 12.766 0 1]\n",
            " [58 0 0 18.991 0 1]\n",
            " [15 2 0 9.084 0 1]\n",
            " [60 2 2 10.091 0 1]\n",
            " [49 0 2 6.269 0 1]\n",
            " [37 0 2 23.091 1 0]\n",
            " [70 0 0 13.967 0 1]\n",
            " [69 1 0 15.478 0 1]\n",
            " [32 0 2 9.445 0 1]\n",
            " [63 2 0 25.917 0 1]\n",
            " [43 1 2 19.368 0 1]\n",
            " [56 2 0 8.966 0 1]\n",
            " [17 2 2 10.832 0 1]\n",
            " [72 1 0 16.31 0 1]\n",
            " [40 2 0 10.103 1 0]\n",
            " [68 1 0 10.291 0 1]\n",
            " [39 2 2 17.225 1 0]]\n"
          ]
        }
      ]
    },
    {
      "cell_type": "code",
      "source": [
        "from sklearn.preprocessing import StandardScaler\n",
        "sc = StandardScaler()\n",
        "X_train = sc.fit_transform(X_train)\n",
        "X_test = sc.transform(X_test)"
      ],
      "metadata": {
        "id": "DmSBE6qP67lW"
      },
      "execution_count": null,
      "outputs": []
    },
    {
      "cell_type": "code",
      "source": [
        "from sklearn.ensemble import RandomForestClassifier\n",
        "classifier = RandomForestClassifier(n_estimators = 100, criterion = 'entropy', random_state = 0)\n",
        "classifier.fit(X_train,y_train)"
      ],
      "metadata": {
        "colab": {
          "base_uri": "https://localhost:8080/",
          "height": 74
        },
        "id": "k2Wy7G8G7BJb",
        "outputId": "a7eec6f4-e7b0-4f69-dd0a-8fb197d8a36a"
      },
      "execution_count": null,
      "outputs": [
        {
          "output_type": "execute_result",
          "data": {
            "text/plain": [
              "RandomForestClassifier(criterion='entropy', random_state=0)"
            ],
            "text/html": [
              "<style>#sk-container-id-1 {color: black;background-color: white;}#sk-container-id-1 pre{padding: 0;}#sk-container-id-1 div.sk-toggleable {background-color: white;}#sk-container-id-1 label.sk-toggleable__label {cursor: pointer;display: block;width: 100%;margin-bottom: 0;padding: 0.3em;box-sizing: border-box;text-align: center;}#sk-container-id-1 label.sk-toggleable__label-arrow:before {content: \"▸\";float: left;margin-right: 0.25em;color: #696969;}#sk-container-id-1 label.sk-toggleable__label-arrow:hover:before {color: black;}#sk-container-id-1 div.sk-estimator:hover label.sk-toggleable__label-arrow:before {color: black;}#sk-container-id-1 div.sk-toggleable__content {max-height: 0;max-width: 0;overflow: hidden;text-align: left;background-color: #f0f8ff;}#sk-container-id-1 div.sk-toggleable__content pre {margin: 0.2em;color: black;border-radius: 0.25em;background-color: #f0f8ff;}#sk-container-id-1 input.sk-toggleable__control:checked~div.sk-toggleable__content {max-height: 200px;max-width: 100%;overflow: auto;}#sk-container-id-1 input.sk-toggleable__control:checked~label.sk-toggleable__label-arrow:before {content: \"▾\";}#sk-container-id-1 div.sk-estimator input.sk-toggleable__control:checked~label.sk-toggleable__label {background-color: #d4ebff;}#sk-container-id-1 div.sk-label input.sk-toggleable__control:checked~label.sk-toggleable__label {background-color: #d4ebff;}#sk-container-id-1 input.sk-hidden--visually {border: 0;clip: rect(1px 1px 1px 1px);clip: rect(1px, 1px, 1px, 1px);height: 1px;margin: -1px;overflow: hidden;padding: 0;position: absolute;width: 1px;}#sk-container-id-1 div.sk-estimator {font-family: monospace;background-color: #f0f8ff;border: 1px dotted black;border-radius: 0.25em;box-sizing: border-box;margin-bottom: 0.5em;}#sk-container-id-1 div.sk-estimator:hover {background-color: #d4ebff;}#sk-container-id-1 div.sk-parallel-item::after {content: \"\";width: 100%;border-bottom: 1px solid gray;flex-grow: 1;}#sk-container-id-1 div.sk-label:hover label.sk-toggleable__label {background-color: #d4ebff;}#sk-container-id-1 div.sk-serial::before {content: \"\";position: absolute;border-left: 1px solid gray;box-sizing: border-box;top: 0;bottom: 0;left: 50%;z-index: 0;}#sk-container-id-1 div.sk-serial {display: flex;flex-direction: column;align-items: center;background-color: white;padding-right: 0.2em;padding-left: 0.2em;position: relative;}#sk-container-id-1 div.sk-item {position: relative;z-index: 1;}#sk-container-id-1 div.sk-parallel {display: flex;align-items: stretch;justify-content: center;background-color: white;position: relative;}#sk-container-id-1 div.sk-item::before, #sk-container-id-1 div.sk-parallel-item::before {content: \"\";position: absolute;border-left: 1px solid gray;box-sizing: border-box;top: 0;bottom: 0;left: 50%;z-index: -1;}#sk-container-id-1 div.sk-parallel-item {display: flex;flex-direction: column;z-index: 1;position: relative;background-color: white;}#sk-container-id-1 div.sk-parallel-item:first-child::after {align-self: flex-end;width: 50%;}#sk-container-id-1 div.sk-parallel-item:last-child::after {align-self: flex-start;width: 50%;}#sk-container-id-1 div.sk-parallel-item:only-child::after {width: 0;}#sk-container-id-1 div.sk-dashed-wrapped {border: 1px dashed gray;margin: 0 0.4em 0.5em 0.4em;box-sizing: border-box;padding-bottom: 0.4em;background-color: white;}#sk-container-id-1 div.sk-label label {font-family: monospace;font-weight: bold;display: inline-block;line-height: 1.2em;}#sk-container-id-1 div.sk-label-container {text-align: center;}#sk-container-id-1 div.sk-container {/* jupyter's `normalize.less` sets `[hidden] { display: none; }` but bootstrap.min.css set `[hidden] { display: none !important; }` so we also need the `!important` here to be able to override the default hidden behavior on the sphinx rendered scikit-learn.org. See: https://github.com/scikit-learn/scikit-learn/issues/21755 */display: inline-block !important;position: relative;}#sk-container-id-1 div.sk-text-repr-fallback {display: none;}</style><div id=\"sk-container-id-1\" class=\"sk-top-container\"><div class=\"sk-text-repr-fallback\"><pre>RandomForestClassifier(criterion=&#x27;entropy&#x27;, random_state=0)</pre><b>In a Jupyter environment, please rerun this cell to show the HTML representation or trust the notebook. <br />On GitHub, the HTML representation is unable to render, please try loading this page with nbviewer.org.</b></div><div class=\"sk-container\" hidden><div class=\"sk-item\"><div class=\"sk-estimator sk-toggleable\"><input class=\"sk-toggleable__control sk-hidden--visually\" id=\"sk-estimator-id-1\" type=\"checkbox\" checked><label for=\"sk-estimator-id-1\" class=\"sk-toggleable__label sk-toggleable__label-arrow\">RandomForestClassifier</label><div class=\"sk-toggleable__content\"><pre>RandomForestClassifier(criterion=&#x27;entropy&#x27;, random_state=0)</pre></div></div></div></div></div>"
            ]
          },
          "metadata": {},
          "execution_count": 16
        }
      ]
    },
    {
      "cell_type": "code",
      "source": [
        "print(classifier.predict(sc.transform([[23, 1, 0, 7.297999999999999, 0, 1]])))"
      ],
      "metadata": {
        "colab": {
          "base_uri": "https://localhost:8080/"
        },
        "id": "U8oGgHvV7F_r",
        "outputId": "01f41322-f872-43d4-83fb-cc4c3c195f59"
      },
      "execution_count": null,
      "outputs": [
        {
          "output_type": "stream",
          "name": "stdout",
          "text": [
            "['drugC']\n"
          ]
        }
      ]
    },
    {
      "cell_type": "code",
      "source": [
        "import pandas as pd\n",
        "import numpy as np\n"
      ],
      "metadata": {
        "id": "7hQw5ts37J-t"
      },
      "execution_count": null,
      "outputs": []
    },
    {
      "cell_type": "code",
      "source": [
        "y_pred = classifier.predict(X_test)\n",
        "print(np.concatenate((y_pred.reshape(len(y_pred),1), y_test.reshape(len(y_test),1)),1))"
      ],
      "metadata": {
        "colab": {
          "base_uri": "https://localhost:8080/"
        },
        "id": "WwCOX7Bg7PzV",
        "outputId": "116b99df-596a-4785-c24a-83c2d5295d0f"
      },
      "execution_count": null,
      "outputs": [
        {
          "output_type": "stream",
          "name": "stdout",
          "text": [
            "[['drugC' 'drugC']\n",
            " ['drugX' 'drugX']\n",
            " ['drugY' 'drugY']\n",
            " ['drugY' 'drugY']\n",
            " ['drugY' 'drugY']\n",
            " ['drugX' 'drugX']\n",
            " ['drugX' 'drugX']\n",
            " ['drugX' 'drugX']\n",
            " ['drugY' 'drugY']\n",
            " ['drugX' 'drugX']\n",
            " ['drugA' 'drugA']\n",
            " ['drugY' 'drugY']\n",
            " ['drugY' 'drugY']\n",
            " ['drugY' 'drugY']\n",
            " ['drugB' 'drugB']\n",
            " ['drugC' 'drugC']\n",
            " ['drugY' 'drugY']\n",
            " ['drugY' 'drugY']\n",
            " ['drugX' 'drugX']\n",
            " ['drugY' 'drugY']\n",
            " ['drugY' 'drugY']\n",
            " ['drugX' 'drugX']\n",
            " ['drugX' 'drugX']\n",
            " ['drugX' 'drugX']\n",
            " ['drugY' 'drugY']\n",
            " ['drugY' 'drugY']\n",
            " ['drugY' 'drugY']\n",
            " ['drugY' 'drugY']\n",
            " ['drugY' 'drugY']\n",
            " ['drugX' 'drugX']\n",
            " ['drugX' 'drugX']\n",
            " ['drugC' 'drugC']\n",
            " ['drugA' 'drugA']\n",
            " ['drugX' 'drugX']\n",
            " ['drugY' 'drugY']\n",
            " ['drugY' 'drugY']\n",
            " ['drugX' 'drugX']\n",
            " ['drugY' 'drugY']\n",
            " ['drugA' 'drugA']\n",
            " ['drugX' 'drugX']\n",
            " ['drugY' 'drugY']\n",
            " ['drugA' 'drugA']\n",
            " ['drugY' 'drugY']\n",
            " ['drugX' 'drugX']\n",
            " ['drugY' 'drugY']\n",
            " ['drugX' 'drugX']\n",
            " ['drugY' 'drugY']\n",
            " ['drugY' 'drugY']\n",
            " ['drugA' 'drugA']\n",
            " ['drugY' 'drugY']]\n"
          ]
        }
      ]
    },
    {
      "cell_type": "code",
      "source": [
        "from sklearn.metrics import confusion_matrix, accuracy_score\n",
        "cm = confusion_matrix(y_test, y_pred, labels=['drugA','drugB','drugC','drugX','drugY'])\n",
        "print(cm)\n",
        "print('Accuracy is',accuracy_score(y_test, y_pred))"
      ],
      "metadata": {
        "colab": {
          "base_uri": "https://localhost:8080/"
        },
        "id": "WK45gMDW7Rvs",
        "outputId": "12f67fba-6211-411c-9830-680fc7ad8fc7"
      },
      "execution_count": null,
      "outputs": [
        {
          "output_type": "stream",
          "name": "stdout",
          "text": [
            "[[ 5  0  0  0  0]\n",
            " [ 0  1  0  0  0]\n",
            " [ 0  0  3  0  0]\n",
            " [ 0  0  0 16  0]\n",
            " [ 0  0  0  0 25]]\n",
            "Accuracy is 1.0\n"
          ]
        }
      ]
    },
    {
      "cell_type": "code",
      "source": [
        "# Checking contents of Labels in y_test array\n",
        "pd.DataFrame(y_test, columns=['Drug']).groupby('Drug').size()"
      ],
      "metadata": {
        "colab": {
          "base_uri": "https://localhost:8080/"
        },
        "id": "jGkQSXhs7WQ0",
        "outputId": "defde1a4-a91e-433f-e004-285358c43d5b"
      },
      "execution_count": null,
      "outputs": [
        {
          "output_type": "execute_result",
          "data": {
            "text/plain": [
              "Drug\n",
              "drugA     5\n",
              "drugB     1\n",
              "drugC     3\n",
              "drugX    16\n",
              "drugY    25\n",
              "dtype: int64"
            ]
          },
          "metadata": {},
          "execution_count": 21
        }
      ]
    },
    {
      "cell_type": "code",
      "source": [
        "import itertools\n",
        "import matplotlib.pyplot as plt\n",
        "# Defining th function for plotting Confusion Matrix\n",
        "\n",
        "def plot_confusion_matrix(cm, classes,\n",
        "                          normalize=False,\n",
        "                          title='Confusion matrix',\n",
        "                          cmap=plt.cm.Blues):\n",
        "    \"\"\"\n",
        "    This function prints and plots the confusion matrix.\n",
        "    Normalization can be applied by setting `normalize=True`.\n",
        "    \"\"\"\n",
        "    if normalize:\n",
        "        cm = cm.astype('float') / cm.sum(axis=1)[:, np.newaxis]\n",
        "        print(\"Normalized confusion matrix\")\n",
        "    else:\n",
        "        print('Confusion matrix, without normalization')\n",
        "\n",
        "    print(cm)\n",
        "\n",
        "    plt.imshow(cm, interpolation='nearest', cmap=cmap)\n",
        "    plt.title(title)\n",
        "    plt.colorbar()\n",
        "    tick_marks = np.arange(len(classes))\n",
        "    plt.xticks(tick_marks, classes, rotation=45)\n",
        "    plt.yticks(tick_marks, classes)\n",
        "\n",
        "    fmt = '.2f' if normalize else 'd'\n",
        "    thresh = cm.max() / 2.\n",
        "    for i, j in itertools.product(range(cm.shape[0]), range(cm.shape[1])):\n",
        "        plt.text(j, i, format(cm[i, j], fmt),\n",
        "                 horizontalalignment=\"center\",\n",
        "                 color=\"white\" if cm[i, j] > thresh else \"black\")\n",
        "\n",
        "    plt.tight_layout()\n",
        "    plt.ylabel('True label')\n",
        "    plt.xlabel('Predicted label')"
      ],
      "metadata": {
        "id": "-nf6HRMu7amr"
      },
      "execution_count": null,
      "outputs": []
    },
    {
      "cell_type": "code",
      "source": [
        "plt.figure()\n",
        "plot_confusion_matrix(cm, classes=['drugA','drugB','drugC','drugX','drugY'],normalize= False,  title='Confusion matrix')"
      ],
      "metadata": {
        "colab": {
          "base_uri": "https://localhost:8080/",
          "height": 610
        },
        "id": "fOGwqseM7kAA",
        "outputId": "9425748d-19b2-465d-f45e-3e0a6cf0628b"
      },
      "execution_count": null,
      "outputs": [
        {
          "output_type": "stream",
          "name": "stdout",
          "text": [
            "Confusion matrix, without normalization\n",
            "[[ 5  0  0  0  0]\n",
            " [ 0  1  0  0  0]\n",
            " [ 0  0  3  0  0]\n",
            " [ 0  0  0 16  0]\n",
            " [ 0  0  0  0 25]]\n"
          ]
        },
        {
          "output_type": "display_data",
          "data": {
            "text/plain": [
              "<Figure size 640x480 with 2 Axes>"
            ],
            "image/png": "[encoded data removed]"
          },
          "metadata": {}
        }
      ]
    }
  ]
}